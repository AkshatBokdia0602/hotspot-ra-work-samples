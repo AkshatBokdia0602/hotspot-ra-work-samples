{
 "cells": [
  {
   "cell_type": "markdown",
   "id": "14317546",
   "metadata": {},
   "source": [
    "# Importing the Libraries"
   ]
  },
  {
   "cell_type": "code",
   "execution_count": null,
   "id": "e75129da",
   "metadata": {},
   "outputs": [],
   "source": [
    "import pandas as pd\n",
    "import numpy as np\n",
    "import matplotlib.pyplot as plt\n",
    "import seaborn as sns\n",
    "import cv2 as cv"
   ]
  },
  {
   "cell_type": "code",
   "execution_count": null,
   "id": "9276471c",
   "metadata": {},
   "outputs": [],
   "source": [
    "import tensorflow as tf\n",
    "from tensorflow.keras.preprocessing.image import ImageDataGenerator"
   ]
  },
  {
   "cell_type": "markdown",
   "id": "99175506",
   "metadata": {},
   "source": [
    "# Importing and Augmenting the Dataset"
   ]
  },
  {
   "cell_type": "code",
   "execution_count": null,
   "id": "551dbd2e",
   "metadata": {},
   "outputs": [],
   "source": [
    "train_datagen = ImageDataGenerator(\n",
    "    brightness_range = [0.3, 0.9],\n",
    "    shear_range = 0.2,\n",
    "    horizontal_flip = True,\n",
    "    rescale = 1./255,\n",
    "validation_split = 0.2)\n",
    "\n",
    "train_data = train_datagen.flow_from_directory(\n",
    "    \"Plants Classifier/Classes\",\n",
    "    target_size = (150, 150),\n",
    "    color_mode = 'rgb',\n",
    "    class_mode = 'binary',\n",
    "    batch_size = 32,\n",
    "    shuffle = True,\n",
    "    subset = 'training')\n",
    "validation_data = train_datagen.flow_from_directory(\n",
    "    \"Plants Classifier/Classes\",\n",
    "    target_size = (150, 150),\n",
    "    color_mode = 'rgb',\n",
    "    class_mode = 'binary',\n",
    "    batch_size = 32,\n",
    "    shuffle = True,\n",
    "    subset = 'validation')"
   ]
  },
  {
   "cell_type": "code",
   "execution_count": null,
   "id": "5cdc434f",
   "metadata": {},
   "outputs": [],
   "source": [
    "test_datagen = ImageDataGenerator(\n",
    "    rescale = 1./255)\n",
    "test_data = test_datagen.flow_from_directory(\n",
    "    \"Plants Classifier/Classes - Test\",\n",
    "    target_size = (150, 150),\n",
    "    color_mode = 'rgb',\n",
    "    class_mode = 'binary',\n",
    "    batch_size = 32,\n",
    "    shuffle = False) "
   ]
  },
  {
   "cell_type": "markdown",
   "id": "46683418",
   "metadata": {},
   "source": [
    "# Data Exploration"
   ]
  },
  {
   "cell_type": "code",
   "execution_count": null,
   "id": "d40b0d2f",
   "metadata": {},
   "outputs": [],
   "source": [
    "def plotImages(images_arr):\n",
    "    fig, axes = plt.subplots(2, 2, figsize = (20,20))\n",
    "    axes = axes.flatten()\n",
    "    for img, ax in zip(images_arr, axes):\n",
    "        ax.imshow(img)\n",
    "        ax.axis('off')\n",
    "    plt.tight_layout()\n",
    "    plt.show()"
   ]
  },
  {
   "cell_type": "code",
   "execution_count": null,
   "id": "7d8dddcd",
   "metadata": {},
   "outputs": [],
   "source": [
    "imgs, labels = next(train_data)\n",
    "plotImages(imgs)\n",
    "print(labels[:4])"
   ]
  },
  {
   "cell_type": "code",
   "execution_count": null,
   "id": "7b153c55",
   "metadata": {},
   "outputs": [],
   "source": [
    "x = [\"Train\", \"Test\"]\n",
    "height = [train_data.samples, test_data.samples]\n",
    "plt.bar(x, height, width = 0.5, color = \"#45BEE6\", edgecolor = \"k\")\n",
    "plt.title(\"Number of Plant Images\", fontweight = \"bold\")\n",
    "plt.xlabel(\"Data\")\n",
    "plt.ylabel(\"No. of Samples\")\n",
    "plt.show()"
   ]
  },
  {
   "cell_type": "code",
   "execution_count": null,
   "id": "9084d4bd",
   "metadata": {},
   "outputs": [],
   "source": [
    "X = ['Toxic', 'Non-Toxic'] \n",
    "toxic = [4000, 4000] \n",
    "non_toxic = [500, 500] \n",
    "  \n",
    "X_axis = np.arange(len(X)) \n",
    "  \n",
    "plt.bar(X_axis - 0.15, toxic, 0.3, edgecolor = \"k\", label = 'Train') \n",
    "plt.bar(X_axis + 0.15, non_toxic, 0.3, edgecolor = \"k\", label = 'Test') \n",
    "\n",
    "plt.xticks(X_axis, X) \n",
    "plt.xlabel(\"Classes\") \n",
    "plt.ylabel(\"Number of Images\") \n",
    "plt.title(\"Number of Images in each Dataset\", fontweight = \"bold\") \n",
    "plt.legend(loc = 0) \n",
    "plt.show() "
   ]
  },
  {
   "cell_type": "code",
   "execution_count": null,
   "id": "7752e53a",
   "metadata": {},
   "outputs": [],
   "source": [
    "count = 1\n",
    "for i in range(202, 206):\n",
    "    img = cv.imread(f'Plants Classifier/Classes/Toxic/{i}.jpg')\n",
    "    img = cv.resize(img, (200, 200))\n",
    "    plt.subplot(2, 2, count)\n",
    "    plt.imshow(img)\n",
    "    plt.title('Toxic', fontweight = \"bold\", color = \"red\")\n",
    "    plt.axis('off')\n",
    "    count += 1\n",
    "plt.show()"
   ]
  },
  {
   "cell_type": "code",
   "execution_count": null,
   "id": "78cac879",
   "metadata": {},
   "outputs": [],
   "source": [
    "count = 1\n",
    "for i in range(102, 106):\n",
    "    img = cv.imread(f'Plants Classifier/Classes/Non-Toxic/{i}.jpg')\n",
    "    img = cv.resize(img, (200, 200))\n",
    "    plt.subplot(2, 2, count)\n",
    "    plt.imshow(img)\n",
    "    plt.title('Non-Toxic', fontweight = \"bold\", color = \"green\")\n",
    "    plt.axis('off')\n",
    "    count += 1\n",
    "plt.show()"
   ]
  },
  {
   "cell_type": "markdown",
   "id": "9dee14c4",
   "metadata": {},
   "source": [
    "# Building and Training the Model"
   ]
  },
  {
   "cell_type": "code",
   "execution_count": null,
   "id": "8be5dc99",
   "metadata": {},
   "outputs": [],
   "source": [
    "model = tf.keras.models.Sequential(\n",
    "[\n",
    "    tf.keras.layers.Conv2D(filters = 16, kernel_size = 3, input_shape = [150, 150, 3]),\n",
    "    tf.keras.layers.MaxPooling2D(pool_size = 2, strides = 2),\n",
    "    tf.keras.layers.Conv2D(filters = 32, kernel_size = 3),\n",
    "    tf.keras.layers.MaxPooling2D(pool_size = 2, strides = 2),\n",
    "    tf.keras.layers.Conv2D(filters = 64, kernel_size = 3),\n",
    "    tf.keras.layers.MaxPooling2D(pool_size = 2, strides = 2),\n",
    "    tf.keras.layers.Conv2D(filters = 128, kernel_size = 3),\n",
    "    tf.keras.layers.MaxPooling2D(pool_size = 2, strides = 2),\n",
    "    tf.keras.layers.Flatten(),\n",
    "    tf.keras.layers.Dense(512, activation = \"relu\"),\n",
    "    tf.keras.layers.Dense(128, activation = \"relu\"),\n",
    "    tf.keras.layers.Dense(1, activation = \"sigmoid\")\n",
    "])"
   ]
  },
  {
   "cell_type": "code",
   "execution_count": null,
   "id": "bfd26375",
   "metadata": {},
   "outputs": [],
   "source": [
    "model.compile(loss = \"binary_crossentropy\", optimizer = \"adam\", metrics = [\"accuracy\"])"
   ]
  },
  {
   "cell_type": "code",
   "execution_count": null,
   "id": "3e976649",
   "metadata": {},
   "outputs": [],
   "source": [
    "from tensorflow.keras.utils import plot_model\n",
    "model.summary()"
   ]
  },
  {
   "cell_type": "code",
   "execution_count": null,
   "id": "bf553f35",
   "metadata": {},
   "outputs": [],
   "source": [
    "plot_model(model, show_shapes = True, show_layer_names = True, dpi = 80)"
   ]
  },
  {
   "cell_type": "code",
   "execution_count": null,
   "id": "ca20053c",
   "metadata": {},
   "outputs": [],
   "source": [
    "history1 = model.fit(x = train_data, validation_data = validation_data, epochs = 3)"
   ]
  },
  {
   "cell_type": "markdown",
   "id": "50943c00",
   "metadata": {},
   "source": [
    "## Metrics Visualization"
   ]
  },
  {
   "cell_type": "code",
   "execution_count": null,
   "id": "49de2a29",
   "metadata": {},
   "outputs": [],
   "source": [
    "sns.set_style(\"darkgrid\")\n",
    "acc = history1.history['accuracy']\n",
    "val_acc = history1.history['val_accuracy']\n",
    "loss = history1.history['loss']\n",
    "val_loss = history1.history['val_loss']\n",
    "epochs = range(len(acc))\n",
    "\n",
    "plt.plot(epochs, loss, 'go-', label = 'Training Loss')\n",
    "plt.plot(epochs, val_loss, 'bo-', label = 'Validation Loss')\n",
    "plt.title('Loss Curve', fontweight = \"bold\")\n",
    "plt.legend(loc = 0)\n",
    "plt.xlabel(\"Epoch\")\n",
    "plt.ylabel(\"Loss\")\n",
    "plt.show()"
   ]
  },
  {
   "cell_type": "code",
   "execution_count": null,
   "id": "d37ad445",
   "metadata": {},
   "outputs": [],
   "source": [
    "plt.plot(epochs, acc, 'ro-', label = 'Training Accuracy')\n",
    "plt.plot(epochs, val_acc, 'bo-', label = 'Validation Accuracy')\n",
    "plt.title('Accuracy', fontweight = \"bold\")\n",
    "plt.legend(loc = 0)\n",
    "plt.xlabel(\"Epoch\")\n",
    "plt.ylabel(\"Accuracy\")\n",
    "plt.show()"
   ]
  },
  {
   "cell_type": "code",
   "execution_count": null,
   "id": "3d8aa965",
   "metadata": {},
   "outputs": [],
   "source": [
    "y_true = test_data.labels\n",
    "y_prob = model.predict(test_data)\n",
    "y_pred = []\n",
    "for i in y_prob:\n",
    "    if i > 0.5:\n",
    "        y_pred.append(1)\n",
    "    else:\n",
    "        y_pred.append(0)\n",
    "y_pred = np.array(y_pred)"
   ]
  },
  {
   "cell_type": "code",
   "execution_count": null,
   "id": "3e712e11",
   "metadata": {},
   "outputs": [],
   "source": [
    "from sklearn.metrics import classification_report, confusion_matrix, ConfusionMatrixDisplay\n",
    "sns.set_style(\"white\")\n",
    "labels = test_data.class_indices.keys()\n",
    "c_m = confusion_matrix(y_true, y_pred)\n",
    "\n",
    "display_c_m = ConfusionMatrixDisplay(c_m, display_labels = labels)\n",
    "display_c_m.plot(cmap = 'Blues')\n",
    "plt.xticks(fontsize = 15)\n",
    "plt.yticks(fontsize = 15)\n",
    "plt.title('Confusion Matrix', fontsize = 24)\n",
    "plt.show()"
   ]
  },
  {
   "cell_type": "code",
   "execution_count": null,
   "id": "7632c251",
   "metadata": {},
   "outputs": [],
   "source": [
    "print(classification_report(y_true, y_pred))"
   ]
  },
  {
   "cell_type": "markdown",
   "id": "2a817887",
   "metadata": {},
   "source": [
    "# Fine-tuning a Pre-Trained Model (Inception V3)"
   ]
  },
  {
   "cell_type": "code",
   "execution_count": null,
   "id": "749761f8",
   "metadata": {},
   "outputs": [],
   "source": [
    "!wget --no-check-certificate \\\n",
    "    https://storage.googleapis.com/mledu-datasets/inception_v3_weights_tf_dim_ordering_tf_kernels_notop.h5 \\\n",
    "    -O /tmp/inception_v3_weights_tf_dim_ordering_tf_kernels_notop.h5"
   ]
  },
  {
   "cell_type": "code",
   "execution_count": null,
   "id": "5e39032b",
   "metadata": {},
   "outputs": [],
   "source": [
    "from tensorflow.keras.applications.inception_v3 import InceptionV3\n",
    "local_weights_file = '/tmp/inception_v3_weights_tf_dim_ordering_tf_kernels_notop.h5'"
   ]
  },
  {
   "cell_type": "code",
   "execution_count": null,
   "id": "ce8ffef8",
   "metadata": {},
   "outputs": [],
   "source": [
    "def create_pre_trained_model(local_weights_file):\n",
    "    pre_trained_model = InceptionV3(input_shape = (150, 150, 3), include_top = False, weights = None) \n",
    "    pre_trained_model.load_weights(local_weights_file)\n",
    "    \n",
    "    for layer in pre_trained_model.layers:\n",
    "        layer.trainable = False\n",
    "\n",
    "    return pre_trained_model"
   ]
  },
  {
   "cell_type": "code",
   "execution_count": null,
   "id": "6183c6cc",
   "metadata": {},
   "outputs": [],
   "source": [
    "pre_trained_model = create_pre_trained_model(local_weights_file)\n",
    "pre_trained_model.summary()"
   ]
  },
  {
   "cell_type": "code",
   "execution_count": null,
   "id": "176eaa51",
   "metadata": {},
   "outputs": [],
   "source": [
    "last_desired_layer = pre_trained_model.get_layer('mixed7')\n",
    "last_output = last_desired_layer.output"
   ]
  },
  {
   "cell_type": "code",
   "execution_count": null,
   "id": "46fdf73f",
   "metadata": {},
   "outputs": [],
   "source": [
    "def create_final_model(pre_trained_model, last_output):\n",
    "    x = tf.keras.layers.Flatten()(last_output)\n",
    "    x = tf.keras.layers.Dense(512, activation = 'relu')(x)\n",
    "    x = tf.keras.layers.Dropout(0.2)(x)\n",
    "    x = tf.keras.layers.BatchNormalization()(x)\n",
    "    x = tf.keras.layers.Dense(1, activation = 'sigmoid')(x)  \n",
    "    \n",
    "    model = tf.keras.Model(inputs = pre_trained_model.input, outputs = x)\n",
    "    model.compile(optimizer = \"adam\", loss = 'binary_crossentropy', metrics = ['accuracy'])\n",
    "    \n",
    "    return model"
   ]
  },
  {
   "cell_type": "code",
   "execution_count": null,
   "id": "984334b2",
   "metadata": {},
   "outputs": [],
   "source": [
    "model2 = create_final_model(pre_trained_model, last_output)\n",
    "history2 = model2.fit(x = train_data, validation_data = validation_data, epochs = 5)"
   ]
  },
  {
   "cell_type": "markdown",
   "id": "312736a9",
   "metadata": {},
   "source": [
    "## Metrics Visualization"
   ]
  },
  {
   "cell_type": "code",
   "execution_count": null,
   "id": "7c893793",
   "metadata": {},
   "outputs": [],
   "source": [
    "sns.set_style(\"darkgrid\")\n",
    "acc = history2.history['accuracy']\n",
    "val_acc = history2.history['val_accuracy']\n",
    "loss = history2.history['loss']\n",
    "val_loss = history2.history['val_loss']\n",
    "epochs = range(len(acc))\n",
    "\n",
    "plt.plot(epochs, loss, 'ro--', label = 'Training Loss')\n",
    "plt.plot(epochs, val_loss, 'bo--', label = 'Validation Loss')\n",
    "plt.title('Loss Curve', fontweight = \"bold\")\n",
    "plt.legend(loc = 0)\n",
    "plt.xlabel(\"Epoch\")\n",
    "plt.ylabel(\"Loss\")\n",
    "plt.show()"
   ]
  },
  {
   "cell_type": "code",
   "execution_count": null,
   "id": "1c20e565",
   "metadata": {},
   "outputs": [],
   "source": [
    "plt.plot(epochs, acc, 'ro--', label = 'Training Accuracy')\n",
    "plt.plot(epochs, val_acc, 'bo--', label = 'Validation Accuracy')\n",
    "plt.title('Accuracy', fontweight = \"bold\")\n",
    "plt.legend(loc = 0)\n",
    "plt.xlabel(\"Epoch\")\n",
    "plt.ylabel(\"Accuracy\")\n",
    "plt.show()"
   ]
  },
  {
   "cell_type": "code",
   "execution_count": null,
   "id": "225d0082",
   "metadata": {},
   "outputs": [],
   "source": [
    "y_prob = model2.predict(test_data)\n",
    "y_pred = []\n",
    "for i in y_prob:\n",
    "    if i > 0.5:\n",
    "        y_pred.append(1)\n",
    "    else:\n",
    "        y_pred.append(0)\n",
    "y_pred = np.array(y_pred)"
   ]
  },
  {
   "cell_type": "code",
   "execution_count": null,
   "id": "4330adf4",
   "metadata": {},
   "outputs": [],
   "source": [
    "sns.set_style(\"white\")\n",
    "c_m = confusion_matrix(y_true, y_pred)\n",
    "\n",
    "labels = test_data.class_indices.keys()\n",
    "display_c_m = ConfusionMatrixDisplay(c_m, display_labels = labels)\n",
    "display_c_m.plot(cmap = 'Blues')\n",
    "plt.xticks(fontsize = 15)\n",
    "plt.yticks(fontsize = 15)\n",
    "plt.title('Confusion Matrix', fontsize = 24)\n",
    "plt.show()"
   ]
  },
  {
   "cell_type": "code",
   "execution_count": null,
   "id": "f8868504",
   "metadata": {},
   "outputs": [],
   "source": [
    "print(classification_report(y_true, y_pred))"
   ]
  }
 ],
 "metadata": {
  "kernelspec": {
   "display_name": "Python 3 (ipykernel)",
   "language": "python",
   "name": "python3"
  },
  "language_info": {
   "codemirror_mode": {
    "name": "ipython",
    "version": 3
   },
   "file_extension": ".py",
   "mimetype": "text/x-python",
   "name": "python",
   "nbconvert_exporter": "python",
   "pygments_lexer": "ipython3",
   "version": "3.10.11"
  }
 },
 "nbformat": 4,
 "nbformat_minor": 5
}
