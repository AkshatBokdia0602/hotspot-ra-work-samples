{
  "cells": [
    {
      "cell_type": "markdown",
      "metadata": {
        "id": "vkE1Hh6RuG3z"
      },
      "source": [
        "# Installing and Importing Necessary Libraries"
      ]
    },
    {
      "cell_type": "code",
      "execution_count": null,
      "metadata": {
        "id": "nY8qaxh91j7X"
      },
      "outputs": [],
      "source": [
        "import numpy as np\n",
        "import pandas as pd\n",
        "import matplotlib.pyplot as plt\n",
        "import yfinance as yf"
      ]
    },
    {
      "cell_type": "markdown",
      "metadata": {
        "id": "ilR_NqGMySv1"
      },
      "source": [
        "# Loading the Dataset + Training + Testing"
      ]
    },
    {
      "cell_type": "markdown",
      "metadata": {
        "id": "7uLksFqkQn28"
      },
      "source": [
        "## Reliance"
      ]
    },
    {
      "cell_type": "code",
      "execution_count": null,
      "metadata": {
        "id": "ljOBYUPnQXAI"
      },
      "outputs": [],
      "source": [
        "stock = \"RELIANCE.NS\"\n",
        "ticker = yf.Ticker(stock)\n",
        "dataset = ticker.history(period = \"max\").iloc[:, 0:1].values"
      ]
    },
    {
      "cell_type": "code",
      "execution_count": null,
      "metadata": {
        "id": "Ejugkw3BQeER"
      },
      "outputs": [],
      "source": [
        "training_set = dataset[:int(0.8 * dataset.shape[0])]\n",
        "test_set = dataset[int(0.8 * dataset.shape[0]):]"
      ]
    },
    {
      "cell_type": "code",
      "execution_count": null,
      "metadata": {
        "id": "6Jqr9uN1QbV_"
      },
      "outputs": [],
      "source": [
        "from sklearn.preprocessing import MinMaxScaler\n",
        "sc = MinMaxScaler(feature_range = (0, 1))\n",
        "training_set_scaled = sc.fit_transform(training_set)"
      ]
    },
    {
      "cell_type": "code",
      "execution_count": null,
      "metadata": {
        "id": "F2JdIc5wQhzD"
      },
      "outputs": [],
      "source": [
        "X_train = []\n",
        "y_train = []\n",
        "for i in range(60, training_set_scaled.shape[0]):\n",
        "    X_train.append(training_set_scaled[i - 60 : i, 0])\n",
        "    y_train.append(training_set_scaled[i, 0])\n",
        "\n",
        "X_train, y_train = np.array(X_train), np.array(y_train)"
      ]
    },
    {
      "cell_type": "code",
      "execution_count": null,
      "metadata": {
        "id": "HBPPbuCEQkXf"
      },
      "outputs": [],
      "source": [
        "X_train = np.reshape(X_train, (X_train.shape[0], X_train.shape[1], 1))"
      ]
    },
    {
      "cell_type": "markdown",
      "metadata": {},
      "source": [
        "### Training"
      ]
    },
    {
      "cell_type": "code",
      "execution_count": null,
      "metadata": {
        "id": "6A2UYM9AQv7z"
      },
      "outputs": [],
      "source": [
        "from keras.models import Sequential\n",
        "from keras.layers import Dense, LSTM, Dropout"
      ]
    },
    {
      "cell_type": "code",
      "execution_count": null,
      "metadata": {
        "id": "jDJKrMAhQxT_"
      },
      "outputs": [],
      "source": [
        "regressor = Sequential()\n",
        "regressor.add(LSTM(units = 64, return_sequences = True, input_shape = (X_train.shape[1], 1)))\n",
        "regressor.add(Dropout(0.2))\n",
        "regressor.add(LSTM(units = 64))\n",
        "regressor.add(Dropout(0.2))\n",
        "regressor.add(Dense(units = 1))"
      ]
    },
    {
      "cell_type": "code",
      "execution_count": null,
      "metadata": {
        "id": "Xae3qNpQQzPF"
      },
      "outputs": [],
      "source": [
        "regressor.compile(optimizer = 'adam', loss = 'mean_squared_error')"
      ]
    },
    {
      "cell_type": "code",
      "execution_count": null,
      "metadata": {
        "colab": {
          "base_uri": "https://localhost:8080/"
        },
        "id": "RsIk5xYlQ03T",
        "outputId": "f70b4710-c023-4c58-fbdb-8a5ea143297d"
      },
      "outputs": [],
      "source": [
        "regressor.fit(X_train, y_train, epochs = 10, batch_size = 32)"
      ]
    },
    {
      "cell_type": "markdown",
      "metadata": {},
      "source": [
        "### Testing"
      ]
    },
    {
      "cell_type": "code",
      "execution_count": null,
      "metadata": {
        "id": "cOWCpoZ4Q7NC"
      },
      "outputs": [],
      "source": [
        "inputs = dataset[len(dataset) - len(test_set) - 60:]\n",
        "inputs = sc.transform(inputs)\n",
        "X_test = []\n",
        "for i in range(60, 120):\n",
        "    X_test.append(inputs[i - 60:i, 0])\n",
        "X_test = np.array(X_test)\n",
        "X_test = np.reshape(X_test, (X_test.shape[0], X_test.shape[1], 1))"
      ]
    },
    {
      "cell_type": "code",
      "execution_count": null,
      "metadata": {
        "colab": {
          "base_uri": "https://localhost:8080/"
        },
        "id": "QqaPYPPbQ9pb",
        "outputId": "c17e286a-8019-49b3-aabd-51dfbed1ea80"
      },
      "outputs": [],
      "source": [
        "predicted_stock_price = regressor.predict(X_test)\n",
        "predicted_stock_price = sc.inverse_transform(predicted_stock_price)"
      ]
    },
    {
      "cell_type": "code",
      "execution_count": null,
      "metadata": {
        "colab": {
          "base_uri": "https://localhost:8080/",
          "height": 472
        },
        "id": "9Ks20SazRIL6",
        "outputId": "d6d8b98e-87e8-4798-cd7e-fd4fd8436f23"
      },
      "outputs": [],
      "source": [
        "plt.plot(test_set[:60], color = 'red', label = 'Real Reliance Stock Price')\n",
        "plt.plot(predicted_stock_price, color = 'blue', label = 'Predicted Reliance Stock Price')\n",
        "plt.title('Reliance Stock Price Prediction')\n",
        "plt.xlabel('Time')\n",
        "plt.ylabel('Reliance Stock Price')\n",
        "plt.legend()\n",
        "plt.show()"
      ]
    },
    {
      "cell_type": "code",
      "execution_count": null,
      "metadata": {
        "colab": {
          "base_uri": "https://localhost:8080/"
        },
        "id": "PFgIW6-1938f",
        "outputId": "e7b92a92-fc46-4670-9de8-588e0d84e572"
      },
      "outputs": [],
      "source": [
        "regressor.save('Reliance_model.h5')"
      ]
    },
    {
      "cell_type": "markdown",
      "metadata": {
        "id": "92CXrzG9_PH2"
      },
      "source": [
        "## SBI"
      ]
    },
    {
      "cell_type": "code",
      "execution_count": null,
      "metadata": {
        "id": "mNgC2Vrk_1nn"
      },
      "outputs": [],
      "source": [
        "stock = \"SBIN.NS\"\n",
        "ticker = yf.Ticker(stock)\n",
        "dataset = ticker.history(period = \"max\").iloc[:, 0:1].values"
      ]
    },
    {
      "cell_type": "code",
      "execution_count": null,
      "metadata": {
        "id": "dwI9BVNb_1no"
      },
      "outputs": [],
      "source": [
        "training_set = dataset[:int(0.8 * dataset.shape[0])]\n",
        "test_set = dataset[int(0.8 * dataset.shape[0]):]"
      ]
    },
    {
      "cell_type": "code",
      "execution_count": null,
      "metadata": {
        "id": "Bds9rXhE_1no"
      },
      "outputs": [],
      "source": [
        "from sklearn.preprocessing import MinMaxScaler\n",
        "sc = MinMaxScaler(feature_range = (0, 1))\n",
        "training_set_scaled = sc.fit_transform(training_set)"
      ]
    },
    {
      "cell_type": "code",
      "execution_count": null,
      "metadata": {
        "id": "ddcMguH5_1no"
      },
      "outputs": [],
      "source": [
        "X_train = []\n",
        "y_train = []\n",
        "for i in range(60, training_set_scaled.shape[0]):\n",
        "    X_train.append(training_set_scaled[i - 60 : i, 0])\n",
        "    y_train.append(training_set_scaled[i, 0])\n",
        "\n",
        "X_train, y_train = np.array(X_train), np.array(y_train)"
      ]
    },
    {
      "cell_type": "code",
      "execution_count": null,
      "metadata": {
        "id": "8GZqXvrW_1np"
      },
      "outputs": [],
      "source": [
        "X_train = np.reshape(X_train, (X_train.shape[0], X_train.shape[1], 1))"
      ]
    },
    {
      "cell_type": "markdown",
      "metadata": {},
      "source": [
        "### Training"
      ]
    },
    {
      "cell_type": "code",
      "execution_count": null,
      "metadata": {
        "id": "bJP32DMA_1np"
      },
      "outputs": [],
      "source": [
        "from keras.models import Sequential\n",
        "from keras.layers import Dense, LSTM, Dropout"
      ]
    },
    {
      "cell_type": "code",
      "execution_count": null,
      "metadata": {
        "id": "f5m5AZcn_1np"
      },
      "outputs": [],
      "source": [
        "regressor = Sequential()\n",
        "regressor.add(LSTM(units = 64, return_sequences = True, input_shape = (X_train.shape[1], 1)))\n",
        "regressor.add(Dropout(0.2))\n",
        "regressor.add(LSTM(units = 64, return_sequences = True))\n",
        "regressor.add(Dropout(0.2))\n",
        "regressor.add(LSTM(units = 64))\n",
        "regressor.add(Dropout(0.2))\n",
        "regressor.add(Dense(units = 1))"
      ]
    },
    {
      "cell_type": "code",
      "execution_count": null,
      "metadata": {
        "id": "K5UDc1_Q_1np"
      },
      "outputs": [],
      "source": [
        "regressor.compile(optimizer = 'adam', loss = 'mean_squared_error')"
      ]
    },
    {
      "cell_type": "code",
      "execution_count": null,
      "metadata": {
        "colab": {
          "base_uri": "https://localhost:8080/"
        },
        "id": "mQdNmiR1_1np",
        "outputId": "590e14d7-241f-4dd9-afc8-8813b61aa2d3"
      },
      "outputs": [],
      "source": [
        "regressor.fit(X_train, y_train, epochs = 10, batch_size = 32)"
      ]
    },
    {
      "cell_type": "markdown",
      "metadata": {},
      "source": [
        "### Testing"
      ]
    },
    {
      "cell_type": "code",
      "execution_count": null,
      "metadata": {
        "id": "mKOTKHHh_1np"
      },
      "outputs": [],
      "source": [
        "inputs = dataset[len(dataset) - len(test_set) - 60:]\n",
        "inputs = sc.transform(inputs)\n",
        "X_test = []\n",
        "for i in range(60, 120):\n",
        "    X_test.append(inputs[i - 60:i, 0])\n",
        "X_test = np.array(X_test)\n",
        "X_test = np.reshape(X_test, (X_test.shape[0], X_test.shape[1], 1))"
      ]
    },
    {
      "cell_type": "code",
      "execution_count": null,
      "metadata": {
        "colab": {
          "base_uri": "https://localhost:8080/"
        },
        "id": "tuhlH5e9_1np",
        "outputId": "72d2496e-81a7-426a-8ec0-9e093ff7d110"
      },
      "outputs": [],
      "source": [
        "predicted_stock_price = regressor.predict(X_test)\n",
        "predicted_stock_price = sc.inverse_transform(predicted_stock_price)"
      ]
    },
    {
      "cell_type": "code",
      "execution_count": null,
      "metadata": {
        "colab": {
          "base_uri": "https://localhost:8080/",
          "height": 472
        },
        "id": "S09ICpDv_1nq",
        "outputId": "0dce122b-19a1-4919-8bbc-647a81a4becd"
      },
      "outputs": [],
      "source": [
        "plt.plot(test_set[:60], color = 'red', label = 'Real SBI Stock Price')\n",
        "plt.plot(predicted_stock_price, color = 'blue', label = 'Predicted SBI Stock Price')\n",
        "plt.title('SBI Stock Price Prediction')\n",
        "plt.xlabel('Time')\n",
        "plt.ylabel('SBI Stock Price')\n",
        "plt.legend()\n",
        "plt.show()"
      ]
    },
    {
      "cell_type": "code",
      "execution_count": null,
      "metadata": {
        "colab": {
          "base_uri": "https://localhost:8080/"
        },
        "id": "LSLmZlU-_1nq",
        "outputId": "ca562707-b4b5-4b17-f2e1-18d436f52cc8"
      },
      "outputs": [],
      "source": [
        "regressor.save('SBI_model.h5')"
      ]
    },
    {
      "cell_type": "markdown",
      "metadata": {
        "id": "DxyC9ZnOBBAr"
      },
      "source": [
        "## HDFC"
      ]
    },
    {
      "cell_type": "code",
      "execution_count": null,
      "metadata": {
        "id": "TJwYiNziBMHa"
      },
      "outputs": [],
      "source": [
        "stock = \"HDFCBANK.NS\"\n",
        "ticker = yf.Ticker(stock)\n",
        "dataset = ticker.history(period = \"max\").iloc[:, 0:1].values"
      ]
    },
    {
      "cell_type": "code",
      "execution_count": null,
      "metadata": {
        "id": "gl2yOyvrBMHg"
      },
      "outputs": [],
      "source": [
        "training_set = dataset[:int(0.8 * dataset.shape[0])]\n",
        "test_set = dataset[int(0.8 * dataset.shape[0]):]"
      ]
    },
    {
      "cell_type": "code",
      "execution_count": null,
      "metadata": {
        "id": "XvO7HtbEBMHh"
      },
      "outputs": [],
      "source": [
        "from sklearn.preprocessing import MinMaxScaler\n",
        "sc = MinMaxScaler(feature_range = (0, 1))\n",
        "training_set_scaled = sc.fit_transform(training_set)"
      ]
    },
    {
      "cell_type": "code",
      "execution_count": null,
      "metadata": {
        "id": "T6SIeg3MBMHh"
      },
      "outputs": [],
      "source": [
        "X_train = []\n",
        "y_train = []\n",
        "for i in range(60, training_set_scaled.shape[0]):\n",
        "    X_train.append(training_set_scaled[i - 60 : i, 0])\n",
        "    y_train.append(training_set_scaled[i, 0])\n",
        "\n",
        "X_train, y_train = np.array(X_train), np.array(y_train)"
      ]
    },
    {
      "cell_type": "code",
      "execution_count": null,
      "metadata": {
        "id": "i0ibvJKPBMHh"
      },
      "outputs": [],
      "source": [
        "X_train = np.reshape(X_train, (X_train.shape[0], X_train.shape[1], 1))"
      ]
    },
    {
      "cell_type": "markdown",
      "metadata": {},
      "source": [
        "### Training"
      ]
    },
    {
      "cell_type": "code",
      "execution_count": null,
      "metadata": {
        "id": "XXKqyc63BMHh"
      },
      "outputs": [],
      "source": [
        "from keras.models import Sequential\n",
        "from keras.layers import Dense, LSTM, Dropout"
      ]
    },
    {
      "cell_type": "code",
      "execution_count": null,
      "metadata": {
        "id": "0tfj2C0mBMHi"
      },
      "outputs": [],
      "source": [
        "regressor = Sequential()\n",
        "regressor.add(LSTM(units = 64, return_sequences = True, input_shape = (X_train.shape[1], 1)))\n",
        "regressor.add(Dropout(0.2))\n",
        "regressor.add(LSTM(units = 64))\n",
        "regressor.add(Dropout(0.2))\n",
        "regressor.add(Dense(units = 1))"
      ]
    },
    {
      "cell_type": "code",
      "execution_count": null,
      "metadata": {
        "id": "asAdRFIkBMHi"
      },
      "outputs": [],
      "source": [
        "regressor.compile(optimizer = 'adam', loss = 'mean_squared_error')"
      ]
    },
    {
      "cell_type": "code",
      "execution_count": null,
      "metadata": {
        "colab": {
          "base_uri": "https://localhost:8080/"
        },
        "id": "qPHf4GxDBMHi",
        "outputId": "d042c5c6-6283-4d32-9b64-f85bae7a8c63"
      },
      "outputs": [],
      "source": [
        "regressor.fit(X_train, y_train, epochs = 10, batch_size = 32)"
      ]
    },
    {
      "cell_type": "markdown",
      "metadata": {},
      "source": [
        "### Testing"
      ]
    },
    {
      "cell_type": "code",
      "execution_count": null,
      "metadata": {
        "id": "oe7KEB8NBMHi"
      },
      "outputs": [],
      "source": [
        "inputs = dataset[len(dataset) - len(test_set) - 60:]\n",
        "inputs = sc.transform(inputs)\n",
        "X_test = []\n",
        "for i in range(60, 120):\n",
        "    X_test.append(inputs[i - 60:i, 0])\n",
        "X_test = np.array(X_test)\n",
        "X_test = np.reshape(X_test, (X_test.shape[0], X_test.shape[1], 1))"
      ]
    },
    {
      "cell_type": "code",
      "execution_count": null,
      "metadata": {
        "colab": {
          "base_uri": "https://localhost:8080/"
        },
        "id": "rEUzm3XIBMHi",
        "outputId": "a1cdc691-9504-498a-ba1d-1fd520f308ef"
      },
      "outputs": [],
      "source": [
        "predicted_stock_price = regressor.predict(X_test)\n",
        "predicted_stock_price = sc.inverse_transform(predicted_stock_price)"
      ]
    },
    {
      "cell_type": "code",
      "execution_count": null,
      "metadata": {
        "colab": {
          "base_uri": "https://localhost:8080/",
          "height": 472
        },
        "id": "9cE6Pd01BMHj",
        "outputId": "4bb267c0-fdc2-405e-e296-e453b2547225"
      },
      "outputs": [],
      "source": [
        "plt.plot(test_set[:60], color = 'red', label = 'Real HDFC Stock Price')\n",
        "plt.plot(predicted_stock_price, color = 'blue', label = 'Predicted HDFC Price')\n",
        "plt.title('HDFC Stock Price Prediction')\n",
        "plt.xlabel('Time')\n",
        "plt.ylabel('HDFC Stock Price')\n",
        "plt.legend()\n",
        "plt.show()"
      ]
    },
    {
      "cell_type": "code",
      "execution_count": null,
      "metadata": {
        "colab": {
          "base_uri": "https://localhost:8080/"
        },
        "id": "dIhlnEmtBMHj",
        "outputId": "d2668b4e-a438-4df7-87c9-ee0899d7687a"
      },
      "outputs": [],
      "source": [
        "regressor.save('HDFC_model.h5')"
      ]
    },
    {
      "cell_type": "markdown",
      "metadata": {
        "id": "QyPB8Vl6CKV7"
      },
      "source": [
        "## TCS"
      ]
    },
    {
      "cell_type": "code",
      "execution_count": null,
      "metadata": {
        "id": "2ckzvH_wCTdl"
      },
      "outputs": [],
      "source": [
        "stock = \"TCS.NS\"\n",
        "ticker = yf.Ticker(stock)\n",
        "dataset = ticker.history(period = \"max\").iloc[:, 0:1].values"
      ]
    },
    {
      "cell_type": "code",
      "execution_count": null,
      "metadata": {
        "id": "kEfvJRyKCTdt"
      },
      "outputs": [],
      "source": [
        "training_set = dataset[:int(0.8 * dataset.shape[0])]\n",
        "test_set = dataset[int(0.8 * dataset.shape[0]):]"
      ]
    },
    {
      "cell_type": "code",
      "execution_count": null,
      "metadata": {
        "id": "oQBK0kRqCTdt"
      },
      "outputs": [],
      "source": [
        "from sklearn.preprocessing import MinMaxScaler\n",
        "sc = MinMaxScaler(feature_range = (0, 1))\n",
        "training_set_scaled = sc.fit_transform(training_set)"
      ]
    },
    {
      "cell_type": "code",
      "execution_count": null,
      "metadata": {
        "id": "GROXINK-CTdt"
      },
      "outputs": [],
      "source": [
        "X_train = []\n",
        "y_train = []\n",
        "for i in range(60, training_set_scaled.shape[0]):\n",
        "    X_train.append(training_set_scaled[i - 60 : i, 0])\n",
        "    y_train.append(training_set_scaled[i, 0])\n",
        "\n",
        "X_train, y_train = np.array(X_train), np.array(y_train)"
      ]
    },
    {
      "cell_type": "code",
      "execution_count": null,
      "metadata": {
        "id": "hespROZjCTdt"
      },
      "outputs": [],
      "source": [
        "X_train = np.reshape(X_train, (X_train.shape[0], X_train.shape[1], 1))"
      ]
    },
    {
      "cell_type": "markdown",
      "metadata": {},
      "source": [
        "### Training"
      ]
    },
    {
      "cell_type": "code",
      "execution_count": null,
      "metadata": {
        "id": "oVd1JpIoCTdt"
      },
      "outputs": [],
      "source": [
        "from keras.models import Sequential\n",
        "from keras.layers import Dense, LSTM, Dropout"
      ]
    },
    {
      "cell_type": "code",
      "execution_count": null,
      "metadata": {
        "id": "zMrKrd1dCTdu"
      },
      "outputs": [],
      "source": [
        "regressor = Sequential()\n",
        "regressor.add(LSTM(units = 64, return_sequences = True, input_shape = (X_train.shape[1], 1)))\n",
        "regressor.add(Dropout(0.2))\n",
        "regressor.add(LSTM(units = 64))\n",
        "regressor.add(Dropout(0.2))\n",
        "regressor.add(Dense(units = 1))"
      ]
    },
    {
      "cell_type": "code",
      "execution_count": null,
      "metadata": {
        "id": "pEyc5xYpCTdu"
      },
      "outputs": [],
      "source": [
        "regressor.compile(optimizer = 'adam', loss = 'mean_squared_error')"
      ]
    },
    {
      "cell_type": "code",
      "execution_count": null,
      "metadata": {
        "colab": {
          "base_uri": "https://localhost:8080/"
        },
        "id": "imnMxiNzCTdu",
        "outputId": "e194b754-76a6-4c38-e53f-5d300adc1534"
      },
      "outputs": [],
      "source": [
        "regressor.fit(X_train, y_train, epochs = 10, batch_size = 32)"
      ]
    },
    {
      "cell_type": "markdown",
      "metadata": {},
      "source": [
        "### Testing"
      ]
    },
    {
      "cell_type": "code",
      "execution_count": null,
      "metadata": {
        "id": "X3Un2UH6CTdu"
      },
      "outputs": [],
      "source": [
        "inputs = dataset[len(dataset) - len(test_set) - 60:]\n",
        "inputs = sc.transform(inputs)\n",
        "X_test = []\n",
        "for i in range(60, 120):\n",
        "    X_test.append(inputs[i - 60:i, 0])\n",
        "X_test = np.array(X_test)\n",
        "X_test = np.reshape(X_test, (X_test.shape[0], X_test.shape[1], 1))"
      ]
    },
    {
      "cell_type": "code",
      "execution_count": null,
      "metadata": {
        "id": "ELOvrNI3CTdu"
      },
      "outputs": [],
      "source": [
        "predicted_stock_price = regressor.predict(X_test)\n",
        "predicted_stock_price = sc.inverse_transform(predicted_stock_price)"
      ]
    },
    {
      "cell_type": "code",
      "execution_count": null,
      "metadata": {
        "id": "ZRB3zfXlCTdu"
      },
      "outputs": [],
      "source": [
        "plt.plot(test_set[:60], color = 'red', label = 'Real TCS Stock Price')\n",
        "plt.plot(predicted_stock_price, color = 'blue', label = 'Predicted TCS Stock Price')\n",
        "plt.title('TCS Stock Price Prediction')\n",
        "plt.xlabel('Time')\n",
        "plt.ylabel('TCS Stock Price')\n",
        "plt.legend()\n",
        "plt.show()"
      ]
    },
    {
      "cell_type": "code",
      "execution_count": null,
      "metadata": {
        "id": "eZ80oTTfCTdv"
      },
      "outputs": [],
      "source": [
        "regressor.save('TCS_model.h5')"
      ]
    },
    {
      "cell_type": "markdown",
      "metadata": {
        "id": "2F0GkGN4QlDI"
      },
      "source": [
        "## Adani ENT"
      ]
    },
    {
      "cell_type": "code",
      "execution_count": null,
      "metadata": {
        "id": "Nuy95pUDJA9A"
      },
      "outputs": [],
      "source": [
        "stock = \"ADANIENT.NS\"\n",
        "ticker = yf.Ticker(stock)\n",
        "dataset = ticker.history(period = \"max\").iloc[:, 0:1].values"
      ]
    },
    {
      "cell_type": "code",
      "execution_count": null,
      "metadata": {
        "id": "zF6A5PcGJA9K"
      },
      "outputs": [],
      "source": [
        "training_set = dataset[:int(0.8 * dataset.shape[0])]\n",
        "test_set = dataset[int(0.8 * dataset.shape[0]):]"
      ]
    },
    {
      "cell_type": "code",
      "execution_count": null,
      "metadata": {
        "id": "d-tg3fzCJA9L"
      },
      "outputs": [],
      "source": [
        "from sklearn.preprocessing import MinMaxScaler\n",
        "sc = MinMaxScaler(feature_range = (0, 1))\n",
        "training_set_scaled = sc.fit_transform(training_set)"
      ]
    },
    {
      "cell_type": "code",
      "execution_count": null,
      "metadata": {
        "id": "TQoWykpzJA9L"
      },
      "outputs": [],
      "source": [
        "X_train = []\n",
        "y_train = []\n",
        "for i in range(60, training_set_scaled.shape[0]):\n",
        "    X_train.append(training_set_scaled[i - 60 : i, 0])\n",
        "    y_train.append(training_set_scaled[i, 0])\n",
        "\n",
        "X_train, y_train = np.array(X_train), np.array(y_train)"
      ]
    },
    {
      "cell_type": "code",
      "execution_count": null,
      "metadata": {
        "id": "P9U7DgOTJA9L"
      },
      "outputs": [],
      "source": [
        "X_train = np.reshape(X_train, (X_train.shape[0], X_train.shape[1], 1))"
      ]
    },
    {
      "cell_type": "markdown",
      "metadata": {},
      "source": [
        "### Training"
      ]
    },
    {
      "cell_type": "code",
      "execution_count": null,
      "metadata": {
        "id": "8z3QYz8XJA9L"
      },
      "outputs": [],
      "source": [
        "from keras.models import Sequential\n",
        "from keras.layers import Dense, LSTM, Dropout"
      ]
    },
    {
      "cell_type": "code",
      "execution_count": null,
      "metadata": {
        "id": "rCwvWiyDJA9M"
      },
      "outputs": [],
      "source": [
        "regressor = Sequential()\n",
        "regressor.add(LSTM(units = 64, return_sequences = True, input_shape = (X_train.shape[1], 1)))\n",
        "regressor.add(Dropout(0.2))\n",
        "regressor.add(LSTM(units = 64))\n",
        "regressor.add(Dropout(0.2))\n",
        "regressor.add(Dense(units = 1))"
      ]
    },
    {
      "cell_type": "code",
      "execution_count": null,
      "metadata": {
        "id": "3NEsFHvDJA9M"
      },
      "outputs": [],
      "source": [
        "regressor.compile(optimizer = 'adam', loss = 'mean_squared_error')"
      ]
    },
    {
      "cell_type": "code",
      "execution_count": null,
      "metadata": {
        "colab": {
          "background_save": true
        },
        "id": "Z9s8oKCiJA9M",
        "outputId": "35632245-8e78-4111-e3c0-8c49105bc2ef"
      },
      "outputs": [],
      "source": [
        "regressor.fit(X_train, y_train, epochs = 10, batch_size = 32)"
      ]
    },
    {
      "cell_type": "markdown",
      "metadata": {},
      "source": [
        "### Testing"
      ]
    },
    {
      "cell_type": "code",
      "execution_count": null,
      "metadata": {
        "colab": {
          "background_save": true
        },
        "id": "s_1VdHlUJA9M"
      },
      "outputs": [],
      "source": [
        "inputs = dataset[len(dataset) - len(test_set) - 60:]\n",
        "inputs = sc.transform(inputs)\n",
        "X_test = []\n",
        "for i in range(60, 120):\n",
        "    X_test.append(inputs[i - 60:i, 0])\n",
        "X_test = np.array(X_test)\n",
        "X_test = np.reshape(X_test, (X_test.shape[0], X_test.shape[1], 1))"
      ]
    },
    {
      "cell_type": "code",
      "execution_count": null,
      "metadata": {
        "colab": {
          "background_save": true
        },
        "id": "zvLOFDj_JA9M",
        "outputId": "a2d3bbba-13bd-4773-91b6-65e0e6b0dca0"
      },
      "outputs": [],
      "source": [
        "predicted_stock_price = regressor.predict(X_test)\n",
        "predicted_stock_price = sc.inverse_transform(predicted_stock_price)"
      ]
    },
    {
      "cell_type": "code",
      "execution_count": null,
      "metadata": {
        "colab": {
          "background_save": true
        },
        "id": "edTg1TB1JA9N",
        "outputId": "748c2e52-f753-485e-8b2d-9fba8dde75ec"
      },
      "outputs": [],
      "source": [
        "plt.plot(test_set[:60], color = 'red', label = 'Real Adani Enterprises Stock Price')\n",
        "plt.plot(predicted_stock_price, color = 'blue', label = 'Predicted Adani Enterprises Stock Price')\n",
        "plt.title('Adani Enterprises Stock Price Prediction')\n",
        "plt.xlabel('Time')\n",
        "plt.ylabel('Adani Enterprises Stock Price')\n",
        "plt.legend()\n",
        "plt.show()"
      ]
    },
    {
      "cell_type": "code",
      "execution_count": null,
      "metadata": {
        "colab": {
          "background_save": true
        },
        "id": "tiAOZX_BJA9N",
        "outputId": "4c3fe44f-aa53-4add-e866-0c6ab6ba5af0"
      },
      "outputs": [],
      "source": [
        "regressor.save('AdaniENT_model.h5')"
      ]
    }
  ],
  "metadata": {
    "colab": {
      "provenance": []
    },
    "kernelspec": {
      "display_name": "Python 3",
      "name": "python3"
    },
    "language_info": {
      "name": "python"
    }
  },
  "nbformat": 4,
  "nbformat_minor": 0
}
