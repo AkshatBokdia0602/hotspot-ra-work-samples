{
  "cells": [
    {
      "cell_type": "markdown",
      "id": "7e9c3b68",
      "metadata": {
        "id": "7e9c3b68"
      },
      "source": [
        "# Importing the Libraries"
      ]
    },
    {
      "cell_type": "code",
      "execution_count": null,
      "id": "8840493d",
      "metadata": {
        "id": "8840493d"
      },
      "outputs": [],
      "source": [
        "import numpy as np\n",
        "import matplotlib.pyplot as plt\n",
        "import pandas as pd\n",
        "import os\n",
        "import cv2 as cv"
      ]
    },
    {
      "cell_type": "code",
      "execution_count": null,
      "id": "50adabd3",
      "metadata": {
        "id": "50adabd3"
      },
      "outputs": [],
      "source": [
        "import tensorflow as tf\n",
        "import sklearn.model_selection\n",
        "from tensorflow.keras.layers import Conv2D, MaxPooling2D, Dropout, Flatten, Dense, Input, Lambda\n",
        "from tensorflow.keras.models import Model"
      ]
    },
    {
      "cell_type": "markdown",
      "id": "cc34b001",
      "metadata": {
        "id": "cc34b001"
      },
      "source": [
        "# Importing the Dataset"
      ]
    },
    {
      "cell_type": "code",
      "execution_count": null,
      "id": "070dbf9a",
      "metadata": {
        "id": "070dbf9a"
      },
      "outputs": [],
      "source": [
        "train = pd.read_csv(\"\") # Enter train csv file \n",
        "test = pd.read_csv(\"\") # Enter test csv file\n",
        "train_dir = \"\" # Enter train directory containing each employee's valid signature and non-valid signature folders\n",
        "test_dir = \"\" # Enter test directorycontaining each employee's valid signature and non-valid signature folders"
      ]
    },
    {
      "cell_type": "code",
      "execution_count": null,
      "id": "c01cda40",
      "metadata": {
        "id": "c01cda40"
      },
      "outputs": [],
      "source": [
        "def preprocess(img):\n",
        "    img = cv.resize(img, (128, 128, ))\n",
        "    img = cv.Canny(img, 20, 200)\n",
        "    img = img / 255.\n",
        "    img = np.expand_dims(img, axis = -1)\n",
        "    return img\n",
        "\n",
        "def show_image(image):\n",
        "    plt.figure()\n",
        "    plt.imshow(image, cmap = \"grey\")\n",
        "    plt.grid(False)\n",
        "    plt.show()"
      ]
    },
    {
      "cell_type": "code",
      "execution_count": null,
      "id": "73aea111",
      "metadata": {
        "id": "73aea111"
      },
      "outputs": [],
      "source": [
        "def create_pairs_on_set(dataset, dir):\n",
        "    os.chdir(dir)\n",
        "    pairs = []\n",
        "    labels = []\n",
        "\n",
        "    for i in range(dataset.shape[0]):\n",
        "        if i % 1000 == 0:\n",
        "            print(i)\n",
        "        img1 = cv.imread(dataset.iloc[i, 0])\n",
        "        img1 = preprocess(img1)\n",
        "        img2 = cv.imread(dataset.iloc[i, 1])\n",
        "        img2 = preprocess(img2)\n",
        "        pairs += [[img1, img2]]\n",
        "        labels += [dataset.iloc[i, 2]]\n",
        "\n",
        "    tr_pairs = np.array(pairs)\n",
        "    tr_y = np.array(labels)\n",
        "    tr_y = tr_y.astype('float32')\n",
        "    return tr_pairs, tr_y"
      ]
    },
    {
      "cell_type": "code",
      "execution_count": null,
      "id": "b91d771a",
      "metadata": {
        "id": "b91d771a"
      },
      "outputs": [],
      "source": [
        "train_set, val_set = sklearn.model_selection.train_test_split(train, test_size = 0.2)\n",
        "tr_pairs, tr_y = create_pairs_on_set(train_set, train_dir)\n",
        "vl_pairs, vl_y = create_pairs_on_set(val_set, train_dir)\n",
        "ts_pairs, ts_y = create_pairs_on_set(test, test_dir)"
      ]
    },
    {
      "cell_type": "code",
      "execution_count": null,
      "id": "f8ce5ce1",
      "metadata": {
        "id": "f8ce5ce1"
      },
      "outputs": [],
      "source": [
        "this_pair = 100\n",
        "\n",
        "show_image(ts_pairs[this_pair][0])\n",
        "show_image(ts_pairs[this_pair][1])\n",
        "\n",
        "print(ts_y[this_pair])"
      ]
    },
    {
      "cell_type": "markdown",
      "id": "d0e151d0",
      "metadata": {
        "id": "d0e151d0"
      },
      "source": [
        "# Creating  and Training the Model"
      ]
    },
    {
      "cell_type": "code",
      "execution_count": null,
      "id": "b9e6c733",
      "metadata": {
        "id": "b9e6c733"
      },
      "outputs": [],
      "source": [
        "def create_siamese_model():\n",
        "    input = Input(shape = (128, 128, 1), name = \"base_input\")\n",
        "    x = Conv2D(16, (3, 3), activation = 'relu')(input)\n",
        "    x = MaxPooling2D(2, 2)(x)\n",
        "    x = Dropout(0.25)(x)\n",
        "    x = Conv2D(32, (3, 3), activation = 'relu')(x)\n",
        "    x = MaxPooling2D(2, 2)(x)\n",
        "    x = Dropout(0.25)(x)\n",
        "    x = Conv2D(64, (3, 3), activation = 'relu')(x)\n",
        "    x = MaxPooling2D(2, 2)(x)\n",
        "    x = Dropout(0.25)(x)\n",
        "    x = Conv2D(128, (3, 3), activation = 'relu')(x)\n",
        "    x = MaxPooling2D(2, 2)(x)\n",
        "    x = Dropout(0.25)(x)\n",
        "    x = Flatten()(x)\n",
        "    x = Dense(512, activation = 'relu')(x)\n",
        "    x = Dense(128, activation='relu')(x)\n",
        "\n",
        "    return Model(inputs = input, outputs = x)"
      ]
    },
    {
      "cell_type": "code",
      "execution_count": null,
      "id": "9d212144",
      "metadata": {
        "id": "9d212144"
      },
      "outputs": [],
      "source": [
        "base_network = create_siamese_model()"
      ]
    },
    {
      "cell_type": "code",
      "execution_count": null,
      "id": "9e945974",
      "metadata": {
        "id": "9e945974"
      },
      "outputs": [],
      "source": [
        "input_a = Input(shape = (128, 128, 1), name = \"image1\")\n",
        "vect_output_a = base_network(input_a)\n",
        "\n",
        "input_b = Input(shape = (128, 128, 1), name = \"image2\")\n",
        "vect_output_b = base_network(input_b)\n",
        "\n",
        "manhattan_distance_layer = Lambda(lambda tensors: tf.abs(tensors[0] - tensors[1]))\n",
        "manhattan_distance = manhattan_distance_layer([vect_output_a, vect_output_b])\n",
        "\n",
        "output = Dense(1, activation = 'sigmoid')(manhattan_distance)\n",
        "\n",
        "model = Model([input_a, input_b], output)"
      ]
    },
    {
      "cell_type": "code",
      "execution_count": null,
      "id": "f7764a25",
      "metadata": {
        "id": "f7764a25"
      },
      "outputs": [],
      "source": [
        "model.compile(loss = \"binary_crossentropy\", optimizer = \"adam\", metrics = [\"accuracy\"])"
      ]
    },
    {
      "cell_type": "code",
      "execution_count": null,
      "id": "597e1f49",
      "metadata": {
        "id": "597e1f49",
        "outputId": "c08e84ec-567b-4616-e5f5-e9a1e222a0d0"
      },
      "outputs": [],
      "source": [
        "history = model.fit([tr_pairs[:,0][:5000], tr_pairs[:,1][:5000]], tr_y[:5000], epochs = 10, batch_size = 128,\n",
        "                    validation_data = ([vl_pairs[:,0][:1000], vl_pairs[:,1][:1000]], vl_y[:1000]))"
      ]
    },
    {
      "cell_type": "code",
      "execution_count": null,
      "id": "4d75e8f7",
      "metadata": {
        "id": "4d75e8f7",
        "outputId": "0f40c9c3-50d7-4a8b-abfb-d1ffaa28b6f9"
      },
      "outputs": [],
      "source": [
        "plt.plot(history.history['accuracy'], label = 'Train Accuracy')\n",
        "plt.plot(history.history['val_accuracy'], label = 'Validation Accuracy')\n",
        "plt.xlabel('Epoch')\n",
        "plt.ylabel('Accuracy')\n",
        "plt.title('Model Accuracy')\n",
        "plt.legend()\n",
        "plt.show()"
      ]
    },
    {
      "cell_type": "markdown",
      "id": "e96d092e",
      "metadata": {
        "id": "e96d092e"
      },
      "source": [
        "# Testing the Model"
      ]
    },
    {
      "cell_type": "code",
      "execution_count": null,
      "id": "43418191",
      "metadata": {
        "id": "43418191",
        "outputId": "8893b2c3-eeb5-4b85-9a61-c8e6fbe33898"
      },
      "outputs": [],
      "source": [
        "model.evaluate([ts_pairs[:,0], ts_pairs[:,1]], ts_y)"
      ]
    },
    {
      "cell_type": "code",
      "execution_count": null,
      "id": "a67c2388",
      "metadata": {
        "id": "a67c2388",
        "outputId": "9d1f01c6-93ea-454f-ed59-d7e70ed1c10c"
      },
      "outputs": [],
      "source": [
        "y_prob = model.predict([ts_pairs[:,0], ts_pairs[:,1]])\n",
        "y_pred = (y_prob > 0.5).astype(int)\n",
        "y_pred = list(np.squeeze(y_pred))\n",
        "y_test = ts_y"
      ]
    },
    {
      "cell_type": "code",
      "execution_count": null,
      "id": "2701151c-6b46-43cc-8395-380361085eb5",
      "metadata": {
        "id": "2701151c-6b46-43cc-8395-380361085eb5",
        "outputId": "860b2a96-35ae-4b0b-8842-f0ab6f2bbb1f"
      },
      "outputs": [],
      "source": [
        "acc = np.sum(y_test == y_pred) * 100 / len(y_pred)\n",
        "print(\"Accuracy:\", acc)"
      ]
    },
    {
      "cell_type": "code",
      "execution_count": null,
      "id": "3557cb5c",
      "metadata": {
        "id": "3557cb5c",
        "outputId": "691178f4-de1e-4e5e-db7d-0f15778aac3a"
      },
      "outputs": [],
      "source": [
        "img1 = cv.imread(\"\") # Enter image 1 path\n",
        "img2 = cv.imread(\"\") # Enter image 2 path\n",
        "show_image(img1)\n",
        "show_image(img2)\n",
        "img1 = preprocess(img1)\n",
        "img1 = np.expand_dims(img1, axis = 0)\n",
        "img2 = preprocess(img2)\n",
        "img2 = np.expand_dims(img2, axis = 0)"
      ]
    },
    {
      "cell_type": "code",
      "execution_count": null,
      "id": "3f56333c",
      "metadata": {
        "id": "3f56333c",
        "outputId": "f8219c6e-3711-488e-8031-13cdca8f7294"
      },
      "outputs": [],
      "source": [
        "y_prob_one = model.predict([img1, img2])\n",
        "y_pred = (y_prob_one > 0.5).astype(int)\n",
        "print(y_prob_one, y_pred)"
      ]
    },
    {
      "cell_type": "markdown",
      "id": "faf5c3f2",
      "metadata": {
        "id": "faf5c3f2"
      },
      "source": [
        "# Saving the Model"
      ]
    },
    {
      "cell_type": "code",
      "execution_count": null,
      "id": "03c67e30-b7d7-4815-876a-9da706e26c19",
      "metadata": {
        "id": "03c67e30-b7d7-4815-876a-9da706e26c19"
      },
      "outputs": [],
      "source": [
        "model.save('my_model.h5') # Path for saving model - If you change the path here, don't forget to change it in main.py as well\n",
        "                          # while loading this model."
      ]
    }
  ],
  "metadata": {
    "colab": {
      "provenance": []
    },
    "kernelspec": {
      "display_name": "Python 3 (ipykernel)",
      "language": "python",
      "name": "python3"
    },
    "language_info": {
      "codemirror_mode": {
        "name": "ipython",
        "version": 3
      },
      "file_extension": ".py",
      "mimetype": "text/x-python",
      "name": "python",
      "nbconvert_exporter": "python",
      "pygments_lexer": "ipython3",
      "version": "3.10.11"
    }
  },
  "nbformat": 4,
  "nbformat_minor": 5
}
