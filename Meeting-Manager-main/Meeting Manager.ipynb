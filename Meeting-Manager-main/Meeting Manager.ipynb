{
  "cells": [
    {
      "cell_type": "markdown",
      "metadata": {
        "id": "0qu3TssScdt6"
      },
      "source": [
        "# Installing Necessary Libraries"
      ]
    },
    {
      "cell_type": "code",
      "execution_count": null,
      "metadata": {
        "id": "C8hy1pM1-J4w"
      },
      "outputs": [],
      "source": [
        "!pip3.10 install -q langchain\n",
        "!pip3.10 install -q chromadb\n",
        "!pip3.10 install -q langchain-google-genai\n",
        "!pip3.10 install -q google-generativeai\n",
        "!pip3.10 install -q unstructured\n",
        "!pip3.10 install -q -U langchain-community"
      ]
    },
    {
      "cell_type": "code",
      "execution_count": null,
      "metadata": {
        "id": "S24Gsa7VJQDg"
      },
      "outputs": [],
      "source": [
        "!pip3.10 install -q trycourier"
      ]
    },
    {
      "cell_type": "code",
      "execution_count": null,
      "metadata": {
        "id": "OdQXOWZgAuvL"
      },
      "outputs": [],
      "source": [
        "import textwrap\n",
        "import pandas as pd\n",
        "from pprint import pprint\n",
        "from courier.client import Courier\n",
        "\n",
        "import google.generativeai as genai\n",
        "\n",
        "from IPython.display import Markdown"
      ]
    },
    {
      "cell_type": "code",
      "execution_count": null,
      "metadata": {
        "id": "GUEosA1JXWbz"
      },
      "outputs": [],
      "source": [
        "def to_markdown(text):\n",
        "  text = text.replace('•', '  *')\n",
        "  return Markdown(textwrap.indent(text, '> ', predicate=lambda _: True))"
      ]
    },
    {
      "cell_type": "code",
      "execution_count": 41,
      "metadata": {
        "id": "sOKiw7jGAuxz"
      },
      "outputs": [],
      "source": [
        "import os\n",
        "os.environ[\"GOOGLE_API_KEY\"] = \"\" # Enter your Gemini API Key\n",
        "os.environ[\"Courier_API_KEY\"] = \"\" # Enter your Courier Production API Key "
      ]
    },
    {
      "cell_type": "code",
      "execution_count": null,
      "metadata": {
        "id": "ZowEmhoFAu0N"
      },
      "outputs": [],
      "source": [
        "genai.configure(api_key = os.environ[\"GOOGLE_API_KEY\"])\n",
        "\n",
        "model = genai.GenerativeModel('gemini-pro')"
      ]
    },
    {
      "cell_type": "markdown",
      "metadata": {
        "id": "xxBVrp9wcaup"
      },
      "source": [
        "# Summary"
      ]
    },
    {
      "cell_type": "code",
      "execution_count": null,
      "metadata": {
        "id": "dedIHGI2Od6w"
      },
      "outputs": [],
      "source": [
        "f = open(\"sample.txt\", \"r\")\n",
        "content = f.read()"
      ]
    },
    {
      "cell_type": "code",
      "execution_count": null,
      "metadata": {
        "id": "ZITzyw4ZAu2U"
      },
      "outputs": [],
      "source": [
        "response = model.generate_content(f\"\"\"\n",
        "\n",
        "{content}\n",
        "\n",
        "---\n",
        "\n",
        "Please create a detailed Minutes of the Meeting based on above content. It must include following titles:\n",
        "1. Title\n",
        "2. Meeting Date\n",
        "3. Meeting Time\n",
        "4. Meeting Location\n",
        "5. Attendees\n",
        "6. Agenda\n",
        "7. Actions Taken\n",
        "8. Adjournment\n",
        "9. Meeting adjourned at\n",
        "\n",
        "Ensure clarity and conciseness in the minutes. Use bullet points or numbered lists where appropriate.\"\"\")\n",
        "\n",
        "to_markdown(response.text)"
      ]
    },
    {
      "cell_type": "markdown",
      "metadata": {
        "id": "Y0lQM_fzcXPk"
      },
      "source": [
        "# Email"
      ]
    },
    {
      "cell_type": "code",
      "execution_count": null,
      "metadata": {
        "id": "iyTnPmfTumq1"
      },
      "outputs": [],
      "source": [
        "club = pd.read_csv(\"\") # Enter path to csv file containing employee records - Name, Email, Role"
      ]
    },
    {
      "cell_type": "code",
      "execution_count": null,
      "metadata": {
        "id": "g0V3n0c7OcZU"
      },
      "outputs": [],
      "source": [
        "# names = [\"Alice Johnson\", \"Bob Smith\", \"Carol Davis\", \"David Wilson\", \"Eva Brown\", \"Frank White\", \"Grace Lee\",\n",
        "#          \"Henry Harris\", \"Ivy Martin\",\"Jack Thompson\"]\n",
        "\n",
        "# email_ids = [\"alice.johnson@example.com\", \"bob.smith@example.com\", \"carol.davis@example.com\", \"david.wilson@example.com\",\n",
        "#              \"eva.brown@example.com\", \"frank.white@example.com\", \"grace.lee@example.com\", \"henry.harris@example.com\",\n",
        "#              \"ivy.martin@example.com\",\"jack.thompson@example.com\"]\n",
        "\n",
        "# roles = [\"Junior Core\", \"Senior Core\", \"Board Member\", \"Junior Core\", \"Senior Core\", \"Board Member\", \"Junior Core\",\n",
        "#          \"Senior Core\", \"Board Member\", \"Junior Core\"]\n",
        "\n",
        "# club = pd.DataFrame([names, email_ids, roles]).T"
      ]
    },
    {
      "cell_type": "code",
      "execution_count": null,
      "metadata": {
        "id": "0f5DFrQNTWrj"
      },
      "outputs": [],
      "source": [
        "club = club.set_axis(['Name', 'Email', 'Roles'], axis = 1)"
      ]
    },
    {
      "cell_type": "code",
      "execution_count": null,
      "metadata": {
        "id": "bpgDmFo1bpc3"
      },
      "outputs": [],
      "source": [
        "prompt_roles = club[\"Roles\"].unique().tolist()"
      ]
    },
    {
      "cell_type": "code",
      "execution_count": null,
      "metadata": {
        "id": "_YAhpqKM8aVW"
      },
      "outputs": [],
      "source": [
        "prompt_names = club[\"Name\"].unique().tolist()"
      ]
    },
    {
      "cell_type": "code",
      "execution_count": null,
      "metadata": {
        "id": "OuYfrxMjYb1R"
      },
      "outputs": [],
      "source": [
        "response = model.generate_content(f\"\"\"\n",
        "\n",
        "{content}\n",
        "\n",
        "---\n",
        "\n",
        "Based on the above content, please create a 2d Python list named 'future_meetings' that stores data about all future meetings discussed in the transcript. Each\n",
        "list contains two elements:\n",
        "\n",
        "1. **Meeting Details:**\n",
        "   - Title\n",
        "   - Date (Follow the Format Example for Date: Tuesday, June 11, 2024)\n",
        "   - Time\n",
        "   - Location (if applicable)\n",
        "\n",
        "2. **Participants**\n",
        " - Must be either Everyone, a certain group {prompt_roles} or individuals {prompt_names}.\n",
        "\n",
        " Just create future meetings explicitly discussed in the above given transcript. Don't try to fabricate any meetings.\"\"\")\n",
        "\n",
        "to_markdown(response.text)\n"
      ]
    },
    {
      "cell_type": "code",
      "execution_count": null,
      "metadata": {
        "id": "FxgGYcu0Q-SG"
      },
      "outputs": [],
      "source": [
        "future_meetings = []\n",
        "exec(response.text[10:-3])\n",
        "pprint(future_meetings)"
      ]
    },
    {
      "cell_type": "code",
      "execution_count": 28,
      "metadata": {
        "id": "wllo74ljecXO"
      },
      "outputs": [],
      "source": [
        "meetings = []\n",
        "for i in future_meetings:\n",
        "    response = model.generate_content(f\"\"\"Consider given details:\n",
        "\n",
        "    {i[0]}\n",
        "\n",
        "    ------\n",
        "\n",
        "    Now, based on above content, create a short and brief email message.\n",
        "    Use proper salutation, communicate the message succinctly and kindly end with a Thank You.\n",
        "    Do not include any sign-off or name at the end.\"\"\")\n",
        "\n",
        "    emails = []\n",
        "    participants = i[1]\n",
        "\n",
        "    if len(participants) == 1:\n",
        "        if participants[0].lower() == \"everyone\":\n",
        "            emails.extend(club[\"Email\"].tolist())\n",
        "\n",
        "        elif any(participants[0].lower() in j.lower() for j in prompt_roles):\n",
        "            emails.extend(club[club[\"Roles\"] == participants[0].title()][\"Email\"].tolist())\n",
        "\n",
        "    else:\n",
        "        for person in participants:\n",
        "            if any(person.lower() in j.lower() for j in prompt_roles):\n",
        "                emails.extend(club[club[\"Roles\"] == person.title()][\"Email\"].tolist())\n",
        "\n",
        "            else:\n",
        "                name = [s for s in club[\"Name\"].tolist() if person.lower() in s.lower()]\n",
        "                emails.extend(club[club[\"Name\"] == name[0]][\"Email\"].tolist())\n",
        "\n",
        "    emails = list(set(emails))\n",
        "    meeting = [response.text, emails]\n",
        "    meetings.append(meeting)"
      ]
    },
    {
      "cell_type": "code",
      "execution_count": null,
      "metadata": {
        "id": "xiJUdjniSVPD"
      },
      "outputs": [],
      "source": [
        "for count, meeting in enumerate(meetings):\n",
        "    print(\"\\n\\n\" + str(count + 1) + \". \" + meeting[0])\n",
        "    print(\"\\nSend to: \" + \", \".join(meeting[1]))"
      ]
    },
    {
      "cell_type": "code",
      "execution_count": 38,
      "metadata": {
        "id": "zRNxdh97Itn3"
      },
      "outputs": [],
      "source": [
        "def send_email(emails, ans, auth):\n",
        "    client = Courier(authorization_token = auth)\n",
        "    for email in emails:\n",
        "        client.send(message = {\"to\": {\"email\": f\"{email}\"},\n",
        "                                       \"content\": {\"title\": f\"Meeting Info\",\n",
        "                                                   \"body\": f\"\"\"{ans}\"\"\"},\n",
        "                                       \"data\": {\"note\": f\"\\nDo not reply back to this email. \\n\\n {ans}\"},\n",
        "                                       \"routing\": {\"method\": \"single\", \"channels\": [\"email\"]}})\n",
        "    return True"
      ]
    },
    {
      "cell_type": "code",
      "execution_count": 43,
      "metadata": {},
      "outputs": [],
      "source": [
        "for meeting in meetings:\n",
        "    send_email(emails = meeting[1], ans = meeting[0], auth = os.environ[\"Courier_API_KEY\"])"
      ]
    },
    {
      "cell_type": "markdown",
      "metadata": {
        "id": "YplR2iDVcVOA"
      },
      "source": [
        "# Q/A"
      ]
    },
    {
      "cell_type": "code",
      "execution_count": null,
      "metadata": {
        "id": "QaHbwxfvTnbP"
      },
      "outputs": [],
      "source": [
        "query_text = \"On the agenda, who had the first item?\""
      ]
    },
    {
      "cell_type": "code",
      "execution_count": null,
      "metadata": {
        "id": "l-ZpqLTLB2Ff"
      },
      "outputs": [],
      "source": [
        "from langchain.document_loaders import DirectoryLoader\n",
        "from langchain.text_splitter import RecursiveCharacterTextSplitter\n",
        "from langchain.schema import Document\n",
        "from langchain_google_genai import GoogleGenerativeAIEmbeddings\n",
        "from langchain.vectorstores.chroma import Chroma\n",
        "import getpass\n",
        "import shutil\n",
        "\n",
        "embeddings = GoogleGenerativeAIEmbeddings(model = \"models/embedding-001\")\n",
        "\n",
        "CHROMA_PATH = \"chroma\" # Change this everytime you run this cell again\n",
        "DATA_PATH = \"data\"\n",
        "\n",
        "\n",
        "def main():\n",
        "    generate_data_store()\n",
        "\n",
        "\n",
        "def generate_data_store():\n",
        "    documents = load_documents()\n",
        "    chunks = split_text(documents)\n",
        "    save_to_chroma(chunks)\n",
        "\n",
        "\n",
        "def load_documents():\n",
        "    loader = DirectoryLoader(DATA_PATH, glob=\"*.txt\")\n",
        "    documents = loader.load()\n",
        "    return documents\n",
        "\n",
        "\n",
        "def split_text(documents: list[Document]):\n",
        "    text_splitter = RecursiveCharacterTextSplitter(chunk_size = 1000, chunk_overlap = 100,\n",
        "                                                   length_function = len, add_start_index = True)\n",
        "    chunks = text_splitter.split_documents(documents)\n",
        "    print(f\"Split {len(documents)} documents into {len(chunks)} chunks.\")\n",
        "\n",
        "    document = chunks[1]\n",
        "    print(document.page_content)\n",
        "    print(document.metadata)\n",
        "\n",
        "    return chunks\n",
        "\n",
        "def save_to_chroma(chunks: list[Document]):\n",
        "    if os.path.exists(CHROMA_PATH):\n",
        "        shutil.rmtree(CHROMA_PATH)\n",
        "\n",
        "    db = Chroma.from_documents(chunks, embeddings, persist_directory = CHROMA_PATH)\n",
        "    db.persist()\n",
        "    print(f\"Saved {len(chunks)} chunks to {CHROMA_PATH}.\")\n",
        "\n",
        "\n",
        "if __name__ == \"__main__\":\n",
        "    main()"
      ]
    },
    {
      "cell_type": "code",
      "execution_count": null,
      "metadata": {
        "id": "m2yy-KrcM3fA"
      },
      "outputs": [],
      "source": [
        "from dataclasses import dataclass\n",
        "from langchain.vectorstores.chroma import Chroma\n",
        "from langchain.prompts import ChatPromptTemplate\n",
        "from langchain_google_genai import GoogleGenerativeAI\n",
        "\n",
        "CHROMA_PATH = \"chroma\" # Change this to above created path\n",
        "\n",
        "PROMPT_TEMPLATE = \"\"\"\n",
        "Please provide a precise and thorough answer to the question below, relying exclusively on the given context.\n",
        "Ensure your response is accurate, complete, and clearly articulated. If the context does not contain enough information,\n",
        "please indicate this explicitly. Also, give the answer in complete sentences.\n",
        "\n",
        "Context:\n",
        "{context}\n",
        "\n",
        "---\n",
        "\n",
        "Question:\n",
        "{question}\n",
        "\n",
        "Answer the question based only on the above context:\n",
        "\"\"\"\n",
        "\n",
        "db = Chroma(persist_directory = CHROMA_PATH, embedding_function = embeddings)\n",
        "\n",
        "results = db.similarity_search_with_relevance_scores(query_text, k = 3)\n",
        "\n",
        "if len(results) == 0 or results[0][1] < 0.6:\n",
        "    print(f\"Unable to find matching results.\")\n",
        "\n",
        "context_text = \"\\n\\n---\\n\\n\".join([doc.page_content for doc, _score in results])\n",
        "prompt_template = ChatPromptTemplate.from_template(PROMPT_TEMPLATE)\n",
        "prompt = prompt_template.format(context = context_text, question = query_text)\n",
        "\n",
        "response_text = model.generate_content(prompt)\n",
        "\n",
        "to_markdown(response_text.text)"
      ]
    }
  ],
  "metadata": {
    "colab": {
      "collapsed_sections": [
        "0qu3TssScdt6",
        "xxBVrp9wcaup",
        "YplR2iDVcVOA"
      ],
      "provenance": []
    },
    "kernelspec": {
      "display_name": "Python 3",
      "name": "python3"
    },
    "language_info": {
      "codemirror_mode": {
        "name": "ipython",
        "version": 3
      },
      "file_extension": ".py",
      "mimetype": "text/x-python",
      "name": "python",
      "nbconvert_exporter": "python",
      "pygments_lexer": "ipython3",
      "version": "3.10.11"
    }
  },
  "nbformat": 4,
  "nbformat_minor": 0
}
